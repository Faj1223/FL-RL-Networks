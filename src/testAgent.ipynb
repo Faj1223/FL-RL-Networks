{
 "cells": [
  {
   "cell_type": "markdown",
   "metadata": {},
   "source": [
    "Importation de tous les packages nécéssaires"
   ]
  },
  {
   "cell_type": "code",
   "execution_count": 16,
   "metadata": {},
   "outputs": [],
   "source": [
    "import numpy as np\n",
    "import sys\n",
    "import os\n",
    "sys.path.append(os.path.abspath(\"src\"))\n",
    "from agent import Actor, Critic, ReplayBuffer, DDPGAgent\n",
    "from env import WirelessEnv\n",
    "import torch\n",
    "import rewards_computation\n",
    "from rewards_computation import compute_rewards"
   ]
  },
  {
   "cell_type": "markdown",
   "metadata": {},
   "source": [
    "Declaration des différents varibles et objets pour le test"
   ]
  },
  {
   "cell_type": "code",
   "execution_count": 17,
   "metadata": {},
   "outputs": [],
   "source": [
    "state_dim = 2\n",
    "response_dim = 1\n",
    "max_response = 10\n",
    "Agent = DDPGAgent(state_dim, response_dim, max_response,buffer_size=1000)\n",
    "env = WirelessEnv(num_antennas=1, num_users=1)"
   ]
  },
  {
   "cell_type": "markdown",
   "metadata": {},
   "source": [
    "On vérifie si les objets env et Agent sont bien déclarés et à quoi est ce qu'ils ressemblent."
   ]
  },
  {
   "cell_type": "code",
   "execution_count": 18,
   "metadata": {},
   "outputs": [
    {
     "name": "stdout",
     "output_type": "stream",
     "text": [
      "{'users': [{'id': 0, 'pos': array([35.22288313, 25.0173062 ]), 'demand': 1}], 'antennas': [{'id': 0, 'pos': array([ 0, 50])}]}\n",
      "<agent.DDPGAgent object at 0x7206ecaac5e0>\n"
     ]
    }
   ],
   "source": [
    "env_state = env._get_state()\n",
    "print(env_state)\n",
    "print(Agent)"
   ]
  },
  {
   "cell_type": "code",
   "execution_count": 19,
   "metadata": {},
   "outputs": [
    {
     "name": "stdout",
     "output_type": "stream",
     "text": [
      "1\n"
     ]
    }
   ],
   "source": [
    "demandes = env_state['users'][0]['demand']\n",
    "print(demandes)"
   ]
  },
  {
   "cell_type": "markdown",
   "metadata": {},
   "source": [
    " Réponse de Agent à la demande de User. Par convention, la demande est une list ou un ndarray de taille 2 soit la puissance réelle demandée par le user et la distance qui le sépare de l'antenne qui lui est assignée."
   ]
  },
  {
   "cell_type": "code",
   "execution_count": 20,
   "metadata": {},
   "outputs": [
    {
     "name": "stdout",
     "output_type": "stream",
     "text": [
      "{0: {0: 43.18317363431216}}\n",
      "43.18317363431216\n"
     ]
    }
   ],
   "source": [
    "distances = env._user_antennas_distance()\n",
    "print(distances)\n",
    "# pour user_0\n",
    "distance_utile = distances[0][0]\n",
    "print(distance_utile)"
   ]
  },
  {
   "cell_type": "code",
   "execution_count": 21,
   "metadata": {},
   "outputs": [
    {
     "name": "stdout",
     "output_type": "stream",
     "text": [
      "[1, 43.18317363431216]\n"
     ]
    }
   ],
   "source": [
    "demandes = [demandes, distance_utile]\n",
    "print(demandes)"
   ]
  },
  {
   "cell_type": "code",
   "execution_count": 22,
   "metadata": {},
   "outputs": [
    {
     "name": "stdout",
     "output_type": "stream",
     "text": [
      "[10.]\n"
     ]
    }
   ],
   "source": [
    "response = Agent.select_response(demandes) # attention la demande ici est une list ou un ndarray\n",
    "print(response)"
   ]
  },
  {
   "cell_type": "markdown",
   "metadata": {},
   "source": [
    "Calcule de la recompense de l'antenne 0"
   ]
  },
  {
   "cell_type": "code",
   "execution_count": 23,
   "metadata": {},
   "outputs": [
    {
     "name": "stdout",
     "output_type": "stream",
     "text": [
      "{0: array([10.], dtype=float32)}\n"
     ]
    }
   ],
   "source": [
    "response_dict = {0: response}\n",
    "print(response_dict)"
   ]
  },
  {
   "cell_type": "code",
   "execution_count": 24,
   "metadata": {},
   "outputs": [],
   "source": [
    "reward = compute_rewards(response_dict, env)"
   ]
  },
  {
   "cell_type": "code",
   "execution_count": 25,
   "metadata": {},
   "outputs": [
    {
     "name": "stdout",
     "output_type": "stream",
     "text": [
      "{0: array([0.2263305], dtype=float32)}\n"
     ]
    }
   ],
   "source": [
    "print(reward)"
   ]
  },
  {
   "cell_type": "code",
   "execution_count": 26,
   "metadata": {},
   "outputs": [
    {
     "name": "stdout",
     "output_type": "stream",
     "text": [
      "[1, 43.18317363431216] [10.] {0: array([0.2263305], dtype=float32)}\n"
     ]
    }
   ],
   "source": [
    "print(demandes, response, reward)"
   ]
  },
  {
   "cell_type": "code",
   "execution_count": 27,
   "metadata": {},
   "outputs": [
    {
     "name": "stdout",
     "output_type": "stream",
     "text": [
      "[[1, 43.18317363431216], array([10.], dtype=float32), array([0.2263305], dtype=float32)]\n",
      "[[1, 43.18317363431216], array([10.], dtype=float32), array([0.2263305], dtype=float32)]\n",
      "[[1, 43.18317363431216], array([10.], dtype=float32), array([0.2263305], dtype=float32)]\n",
      "[[1, 43.18317363431216], array([10.], dtype=float32), array([0.2263305], dtype=float32)]\n",
      "[[1, 43.18317363431216], array([10.], dtype=float32), array([0.2263305], dtype=float32)]\n",
      "[[1, 43.18317363431216], array([10.], dtype=float32), array([0.2263305], dtype=float32)]\n",
      "[[1, 43.18317363431216], array([10.], dtype=float32), array([0.2263305], dtype=float32)]\n",
      "[[1, 43.18317363431216], array([10.], dtype=float32), array([0.2263305], dtype=float32)]\n",
      "[[1, 43.18317363431216], array([10.], dtype=float32), array([0.2263305], dtype=float32)]\n",
      "[[1, 43.18317363431216], array([10.], dtype=float32), array([0.2263305], dtype=float32)]\n"
     ]
    }
   ],
   "source": [
    "batch_size = 60\n",
    "for i in range(1000):\n",
    "    response = Agent.select_response(demandes) \n",
    "    response_dict = {0: response}\n",
    "    reward_dict = compute_rewards(response_dict,env)\n",
    "    reward = reward_dict[0]\n",
    "    if i%100 == 0:\n",
    "        print([demandes, response, reward])\n",
    "    Agent.buffer.add(demandes, response, reward, demandes)\n"
   ]
  },
  {
   "cell_type": "code",
   "execution_count": 28,
   "metadata": {},
   "outputs": [
    {
     "data": {
      "text/plain": [
       "1000"
      ]
     },
     "execution_count": 28,
     "metadata": {},
     "output_type": "execute_result"
    }
   ],
   "source": [
    "Agent.buffer.size()"
   ]
  },
  {
   "cell_type": "markdown",
   "metadata": {},
   "source": [
    "Entrainement"
   ]
  },
  {
   "cell_type": "code",
   "execution_count": 29,
   "metadata": {},
   "outputs": [],
   "source": [
    "Agent.train()"
   ]
  },
  {
   "cell_type": "code",
   "execution_count": 30,
   "metadata": {},
   "outputs": [
    {
     "name": "stdout",
     "output_type": "stream",
     "text": [
      "<agent.DDPGAgent object at 0x7206ecaac5e0>\n"
     ]
    }
   ],
   "source": [
    "print(Agent)"
   ]
  },
  {
   "cell_type": "code",
   "execution_count": null,
   "metadata": {},
   "outputs": [],
   "source": []
  }
 ],
 "metadata": {
  "kernelspec": {
   "display_name": "ift6758-conda-env",
   "language": "python",
   "name": "python3"
  },
  "language_info": {
   "codemirror_mode": {
    "name": "ipython",
    "version": 3
   },
   "file_extension": ".py",
   "mimetype": "text/x-python",
   "name": "python",
   "nbconvert_exporter": "python",
   "pygments_lexer": "ipython3",
   "version": "3.9.21"
  }
 },
 "nbformat": 4,
 "nbformat_minor": 2
}
