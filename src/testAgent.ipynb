{
 "cells": [
  {
   "cell_type": "markdown",
   "metadata": {},
   "source": [
    "Importation des packages "
   ]
  },
  {
   "cell_type": "code",
   "execution_count": 1,
   "metadata": {},
   "outputs": [],
   "source": [
    "import numpy as np\n",
    "import sys\n",
    "import os\n",
    "sys.path.append(os.path.abspath(\"src\"))\n",
    "from agent import Actor, Critic, ReplayBuffer, DDPGAgent\n",
    "from env import WirelessEnv\n",
    "import torch\n",
    "import rewards_computation\n",
    "from rewards_computation import compute_rewards"
   ]
  },
  {
   "cell_type": "markdown",
   "metadata": {},
   "source": [
    "Variables "
   ]
  },
  {
   "cell_type": "code",
   "execution_count": 2,
   "metadata": {},
   "outputs": [],
   "source": [
    "state_dim = 2\n",
    "response_dim = 1\n",
    "max_response = 10\n",
    "Agent = DDPGAgent(state_dim, response_dim, max_response,buffer_size=1000)\n",
    "env = WirelessEnv(num_antennas=1, num_users=1)"
   ]
  },
  {
   "cell_type": "markdown",
   "metadata": {},
   "source": [
    "Vérification des objets"
   ]
  },
  {
   "cell_type": "code",
   "execution_count": 3,
   "metadata": {},
   "outputs": [
    {
     "name": "stdout",
     "output_type": "stream",
     "text": [
      "{'users': [{'id': 0, 'pos': array([45.19224811, 85.2713231 ]), 'demand': 1}], 'antennas': [{'id': 0, 'pos': array([ 0, 50])}]}\n",
      "<agent.DDPGAgent object at 0x794874d259d0>\n"
     ]
    }
   ],
   "source": [
    "env_state = env._get_state()\n",
    "print(env_state)\n",
    "print(Agent)"
   ]
  },
  {
   "cell_type": "code",
   "execution_count": 4,
   "metadata": {},
   "outputs": [
    {
     "name": "stdout",
     "output_type": "stream",
     "text": [
      "1\n"
     ]
    }
   ],
   "source": [
    "demandes = env_state['users'][0]['demand']\n",
    "print(demandes)"
   ]
  },
  {
   "cell_type": "markdown",
   "metadata": {},
   "source": [
    " Réponse de Agent à la demande de User. Par définition, la demande est une liste ou un ndarray de taille 2 : la puissance demandée par le user et la distance qui le sépare de l'antenne qui lui est assignée."
   ]
  },
  {
   "cell_type": "code",
   "execution_count": 5,
   "metadata": {},
   "outputs": [
    {
     "name": "stdout",
     "output_type": "stream",
     "text": [
      "{0: {0: 57.32717961162743}}\n",
      "57.32717961162743\n"
     ]
    }
   ],
   "source": [
    "distances = env._user_antennas_distance()\n",
    "print(distances)\n",
    "# pour user_0\n",
    "distance_utile = distances[0][0]\n",
    "print(distance_utile)"
   ]
  },
  {
   "cell_type": "code",
   "execution_count": 6,
   "metadata": {},
   "outputs": [
    {
     "name": "stdout",
     "output_type": "stream",
     "text": [
      "[1, 57.32717961162743]\n"
     ]
    }
   ],
   "source": [
    "demandes = [demandes, distance_utile]\n",
    "print(demandes)"
   ]
  },
  {
   "cell_type": "code",
   "execution_count": 7,
   "metadata": {},
   "outputs": [
    {
     "name": "stdout",
     "output_type": "stream",
     "text": [
      "[10.]\n"
     ]
    }
   ],
   "source": [
    "response = Agent.select_response(demandes) # attention la demande ici est une list ou un ndarray\n",
    "print(response)"
   ]
  },
  {
   "cell_type": "markdown",
   "metadata": {},
   "source": [
    "Calcule de la recompense de l'antenne 0"
   ]
  },
  {
   "cell_type": "code",
   "execution_count": 8,
   "metadata": {},
   "outputs": [
    {
     "name": "stdout",
     "output_type": "stream",
     "text": [
      "{0: array([10.], dtype=float32)}\n"
     ]
    }
   ],
   "source": [
    "response_dict = {0: response}\n",
    "print(response_dict)"
   ]
  },
  {
   "cell_type": "code",
   "execution_count": 9,
   "metadata": {},
   "outputs": [],
   "source": [
    "reward = compute_rewards(response_dict, env)"
   ]
  },
  {
   "cell_type": "code",
   "execution_count": 10,
   "metadata": {},
   "outputs": [
    {
     "name": "stdout",
     "output_type": "stream",
     "text": [
      "{0: array([0.17144667], dtype=float32)}\n"
     ]
    }
   ],
   "source": [
    "print(reward)"
   ]
  },
  {
   "cell_type": "code",
   "execution_count": 11,
   "metadata": {},
   "outputs": [
    {
     "name": "stdout",
     "output_type": "stream",
     "text": [
      "[1, 57.32717961162743] [10.] {0: array([0.17144667], dtype=float32)}\n"
     ]
    }
   ],
   "source": [
    "print(demandes, response, reward)"
   ]
  },
  {
   "cell_type": "code",
   "execution_count": 12,
   "metadata": {},
   "outputs": [
    {
     "name": "stdout",
     "output_type": "stream",
     "text": [
      "[[1, 57.32717961162743], array([10.], dtype=float32), array([0.17144667], dtype=float32)]\n",
      "[[1, 57.32717961162743], array([10.], dtype=float32), array([0.17144667], dtype=float32)]\n",
      "[[1, 57.32717961162743], array([10.], dtype=float32), array([0.17144667], dtype=float32)]\n",
      "[[1, 57.32717961162743], array([10.], dtype=float32), array([0.17144667], dtype=float32)]\n",
      "[[1, 57.32717961162743], array([10.], dtype=float32), array([0.17144667], dtype=float32)]\n",
      "[[1, 57.32717961162743], array([10.], dtype=float32), array([0.17144667], dtype=float32)]\n",
      "[[1, 57.32717961162743], array([10.], dtype=float32), array([0.17144667], dtype=float32)]\n",
      "[[1, 57.32717961162743], array([10.], dtype=float32), array([0.17144667], dtype=float32)]\n",
      "[[1, 57.32717961162743], array([10.], dtype=float32), array([0.17144667], dtype=float32)]\n",
      "[[1, 57.32717961162743], array([10.], dtype=float32), array([0.17144667], dtype=float32)]\n"
     ]
    }
   ],
   "source": [
    "batch_size = 60\n",
    "for i in range(1000):\n",
    "    response = Agent.select_response(demandes) \n",
    "    response_dict = {0: response}\n",
    "    reward_dict = compute_rewards(response_dict,env)\n",
    "    reward = reward_dict[0]\n",
    "    if i%100 == 0:\n",
    "        print([demandes, response, reward])\n",
    "    Agent.buffer.add(demandes, response, reward, demandes)\n"
   ]
  },
  {
   "cell_type": "code",
   "execution_count": 13,
   "metadata": {},
   "outputs": [
    {
     "data": {
      "text/plain": [
       "1000"
      ]
     },
     "execution_count": 13,
     "metadata": {},
     "output_type": "execute_result"
    }
   ],
   "source": [
    "Agent.buffer.size()"
   ]
  },
  {
   "cell_type": "markdown",
   "metadata": {},
   "source": [
    "Entrainement"
   ]
  },
  {
   "cell_type": "code",
   "execution_count": 14,
   "metadata": {},
   "outputs": [
    {
     "name": "stderr",
     "output_type": "stream",
     "text": [
      "/home/ing/Logiciels/anaconda/envs/ift6758-conda-env/lib/python3.9/site-packages/torch/nn/modules/loss.py:608: UserWarning: Using a target size (torch.Size([64, 64, 1])) that is different to the input size (torch.Size([64, 1])). This will likely lead to incorrect results due to broadcasting. Please ensure they have the same size.\n",
      "  return F.mse_loss(input, target, reduction=self.reduction)\n"
     ]
    }
   ],
   "source": [
    "Agent.train()"
   ]
  },
  {
   "cell_type": "code",
   "execution_count": 15,
   "metadata": {},
   "outputs": [
    {
     "name": "stdout",
     "output_type": "stream",
     "text": [
      "<agent.DDPGAgent object at 0x794874d259d0>\n"
     ]
    }
   ],
   "source": [
    "print(Agent)"
   ]
  },
  {
   "cell_type": "code",
   "execution_count": null,
   "metadata": {},
   "outputs": [],
   "source": []
  }
 ],
 "metadata": {
  "kernelspec": {
   "display_name": "ift6758-conda-env",
   "language": "python",
   "name": "python3"
  },
  "language_info": {
   "codemirror_mode": {
    "name": "ipython",
    "version": 3
   },
   "file_extension": ".py",
   "mimetype": "text/x-python",
   "name": "python",
   "nbconvert_exporter": "python",
   "pygments_lexer": "ipython3",
   "version": "3.9.21"
  }
 },
 "nbformat": 4,
 "nbformat_minor": 2
}
