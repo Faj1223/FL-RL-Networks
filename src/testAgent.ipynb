{
 "cells": [
  {
   "cell_type": "code",
   "execution_count": 34,
   "metadata": {},
   "outputs": [],
   "source": [
    "import numpy as np\n",
    "import sys\n",
    "import os\n",
    "sys.path.append(os.path.abspath(\"src\"))\n",
    "from agent import Actor, Critic, ReplayBuffer, DDPGAgent\n",
    "from env import WirelessEnv\n",
    "import torch"
   ]
  },
  {
   "cell_type": "code",
   "execution_count": 35,
   "metadata": {},
   "outputs": [],
   "source": [
    "state_dim = 2\n",
    "action_dim = 1\n",
    "max_action = 10\n",
    "Agent = DDPGAgent(state_dim, action_dim, max_action,buffer_size=1000)\n",
    "env = WirelessEnv(num_antennas=1, num_users=1)"
   ]
  },
  {
   "cell_type": "code",
   "execution_count": 36,
   "metadata": {},
   "outputs": [
    {
     "name": "stdout",
     "output_type": "stream",
     "text": [
      "{'users': [{'id': 0, 'pos': array([32.45600253, 83.1355024 ]), 'demand': 1}], 'antennas': [{'id': 0, 'pos': array([ 0, 50])}]}\n"
     ]
    }
   ],
   "source": [
    "env_state = env._get_state()\n",
    "print(env_state)"
   ]
  },
  {
   "cell_type": "code",
   "execution_count": 37,
   "metadata": {},
   "outputs": [
    {
     "name": "stdout",
     "output_type": "stream",
     "text": [
      "1\n"
     ]
    }
   ],
   "source": [
    "demand = env_state['users'][0]['demand']\n",
    "print(demand)"
   ]
  },
  {
   "cell_type": "code",
   "execution_count": 38,
   "metadata": {},
   "outputs": [
    {
     "name": "stdout",
     "output_type": "stream",
     "text": [
      "distance : 46.38\n",
      "{0: 0.211047551564497}\n"
     ]
    }
   ],
   "source": [
    "distance = np.linalg.norm(env_state['users'][0][\"pos\"] - env_state['antennas'][0][\"pos\"])\n",
    "print(f\"distance : {distance:.2f}\")\n",
    "state = [demand, distance]\n",
    "action = Agent.select_action(state)\n",
    "action = {i: action[0] for i in range(1)}\n",
    "reward = env._compute_rewards(action)\n",
    "print(reward)"
   ]
  },
  {
   "cell_type": "code",
   "execution_count": 39,
   "metadata": {},
   "outputs": [
    {
     "name": "stdout",
     "output_type": "stream",
     "text": [
      "[[1, 46.38268663090346], {0: 10.0}, {0: 0.211047551564497}]\n"
     ]
    }
   ],
   "source": [
    "print([state, action, reward])"
   ]
  },
  {
   "cell_type": "code",
   "execution_count": 40,
   "metadata": {},
   "outputs": [
    {
     "name": "stdout",
     "output_type": "stream",
     "text": [
      "[[1, 46.38268663090346], {0: 10.0}, {0: 0.211047551564497}]\n",
      "[[1, 46.38268663090346], {0: 10.0}, {0: 0.211047551564497}]\n",
      "[[1, 46.38268663090346], {0: 10.0}, {0: 0.211047551564497}]\n",
      "[[1, 46.38268663090346], {0: 10.0}, {0: 0.211047551564497}]\n",
      "[[1, 46.38268663090346], {0: 10.0}, {0: 0.211047551564497}]\n",
      "[[1, 46.38268663090346], {0: 10.0}, {0: 0.211047551564497}]\n",
      "[[1, 46.38268663090346], {0: 10.0}, {0: 0.211047551564497}]\n",
      "[[1, 46.38268663090346], {0: 10.0}, {0: 0.211047551564497}]\n",
      "[[1, 46.38268663090346], {0: 10.0}, {0: 0.211047551564497}]\n",
      "[[1, 46.38268663090346], {0: 10.0}, {0: 0.211047551564497}]\n"
     ]
    }
   ],
   "source": [
    "batch_size = 20\n",
    "for i in range(1000):\n",
    "    action = Agent.select_action(state)\n",
    "    action = {i: action[0] for i in range(1)}\n",
    "    reward = env._compute_rewards(action)\n",
    "    if i%100 == 0:\n",
    "        print([state, action, reward])\n",
    "    Agent.buffer.add(state, action, reward, state)\n"
   ]
  },
  {
   "cell_type": "code",
   "execution_count": 41,
   "metadata": {},
   "outputs": [
    {
     "data": {
      "text/plain": [
       "1000"
      ]
     },
     "execution_count": 41,
     "metadata": {},
     "output_type": "execute_result"
    }
   ],
   "source": [
    "Agent.buffer.size()"
   ]
  },
  {
   "cell_type": "code",
   "execution_count": 42,
   "metadata": {},
   "outputs": [
    {
     "name": "stdout",
     "output_type": "stream",
     "text": [
      "tensor([10.])\n",
      "tensor([0.2110])\n"
     ]
    }
   ],
   "source": [
    "\n",
    "# Convertir en float\n",
    "action = next(iter(action.values()))  # Récupère la valeur 0.20834593\n",
    "reward = next(iter(reward.values()))  # Récupère la valeur 0.0034467490459354814\n",
    "\n",
    "# Transformer en tenseurs PyTorch\n",
    "action = torch.FloatTensor([action])\n",
    "reward = torch.FloatTensor([reward])\n",
    "\n",
    "print(action)  # tensor([0.2083])\n",
    "print(reward)  # tensor([0.0034])\n"
   ]
  },
  {
   "cell_type": "code",
   "execution_count": null,
   "metadata": {},
   "outputs": [],
   "source": []
  }
 ],
 "metadata": {
  "kernelspec": {
   "display_name": "ift6758-conda-env",
   "language": "python",
   "name": "python3"
  },
  "language_info": {
   "codemirror_mode": {
    "name": "ipython",
    "version": 3
   },
   "file_extension": ".py",
   "mimetype": "text/x-python",
   "name": "python",
   "nbconvert_exporter": "python",
   "pygments_lexer": "ipython3",
   "version": "3.9.21"
  }
 },
 "nbformat": 4,
 "nbformat_minor": 2
}
