{
 "cells": [
  {
   "cell_type": "code",
   "execution_count": 9,
   "metadata": {},
   "outputs": [],
   "source": [
    "import numpy as np\n",
    "import sys\n",
    "import os"
   ]
  },
  {
   "cell_type": "code",
   "execution_count": 10,
   "metadata": {},
   "outputs": [],
   "source": [
    "sys.path.append(os.path.abspath(\"src\"))\n",
    "from env import WirelessEnv"
   ]
  },
  {
   "cell_type": "code",
   "execution_count": null,
   "metadata": {},
   "outputs": [
    {
     "name": "stdout",
     "output_type": "stream",
     "text": [
      "\n",
      "=== Nouvel état des utilisateurs ===\n",
      "Utilisateur 0 - Position: [66.3874044  74.33898493] - Demande: 8.62\n",
      "Utilisateur 1 - Position: [68.6721639   8.75691218] - Demande: 3.99\n",
      "Utilisateur 2 - Position: [89.52783988 13.79174599] - Demande: 2.86\n",
      "Utilisateur 3 - Position: [44.47942666 83.87165388] - Demande: 5.19\n",
      "Utilisateur 4 - Position: [69.48042768 58.72406521] - Demande: 7.41\n",
      "Utilisateur 5 - Position: [54.33066898 99.85237002] - Demande: 5.60\n",
      "Utilisateur 6 - Position: [ 1.74795665 72.86486336] - Demande: 4.76\n",
      "Utilisateur 7 - Position: [48.51096695 45.94454449] - Demande: 6.19\n",
      "Utilisateur 8 - Position: [96.24908704 67.20002109] - Demande: 5.56\n",
      "Utilisateur 9 - Position: [93.8321279  70.31852739] - Demande: 4.42\n",
      "\n",
      " \n",
      " === Récompenses des antennes ===\n",
      "Antenne 0: 0.15\n",
      "Antenne 1: 0.00\n",
      "Antenne 2: 1.70\n",
      "Antenne 3: 2.01\n",
      "Antenne 4: 1.62\n"
     ]
    }
   ],
   "source": [
    "np.random.seed(42)  # Pour la reproductibilité des résultats\n",
    "# Initialisation de l'environnement\n",
    "env = WirelessEnv(num_antennas=5, num_users=10)\n",
    "\n",
    "# Réinitialisation des utilisateurs\n",
    "state = env.reset()\n",
    "\n",
    "# Génération de demandes aléatoires pour les utilisateurs\n",
    "actions = {user[\"id\"]: np.random.uniform(1, 10) for user in state[\"users\"]}\n",
    "\n",
    "# Exécution d'une étape dans l'environnement\n",
    "new_state, rewards = env.step(actions)\n",
    "\n",
    "# Affichage des résultats\n",
    "print(\"\\n=== Nouvel état des utilisateurs ===\")\n",
    "for user in new_state[\"users\"]:\n",
    "    print(f\"Utilisateur {user['id']} - Position: {user['pos']} - Demande: {user['demand']:.2f}\")\n",
    "\n",
    "print(\"\\n \\n === Récompenses des antennes ===\")\n",
    "for antenna_id, reward in rewards.items():\n",
    "    print(f\"Antenne {antenna_id}: {reward:.2f}\")"
   ]
  },
  {
   "cell_type": "code",
   "execution_count": null,
   "metadata": {},
   "outputs": [],
   "source": []
  }
 ],
 "metadata": {
  "kernelspec": {
   "display_name": "base",
   "language": "python",
   "name": "python3"
  },
  "language_info": {
   "codemirror_mode": {
    "name": "ipython",
    "version": 3
   },
   "file_extension": ".py",
   "mimetype": "text/x-python",
   "name": "python",
   "nbconvert_exporter": "python",
   "pygments_lexer": "ipython3",
   "version": "3.9.21"
  }
 },
 "nbformat": 4,
 "nbformat_minor": 2
}
